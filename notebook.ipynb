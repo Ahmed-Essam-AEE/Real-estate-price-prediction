{
 "cells": [
  {
   "cell_type": "markdown",
   "metadata": {},
   "source": [
    "Packages"
   ]
  },
  {
   "cell_type": "code",
   "execution_count": 1,
   "metadata": {},
   "outputs": [],
   "source": [
    "import pandas as pd\n",
    "import numpy as np\n",
    "import seaborn as sns\n",
    "import matplotlib.pyplot as plt\n",
    "\n",
    "from sklearn.linear_model import LinearRegression\n",
    "from sklearn.model_selection import train_test_split\n",
    "from sklearn.linear_model import Ridge, RidgeCV, Lasso\n",
    "from sklearn.preprocessing import StandardScaler\n"
   ]
  },
  {
   "cell_type": "markdown",
   "metadata": {},
   "source": []
  },
  {
   "cell_type": "code",
   "execution_count": 2,
   "metadata": {},
   "outputs": [],
   "source": [
    "\n",
    "\n",
    "# Read the dataset\n",
    "real_dataset = pd.read_csv('Real estate.csv')\n",
    "\n",
    "# Drop Nulls\n",
    "real_dataset = real_dataset.dropna()\n",
    "\n",
    "daframe = pd.DataFrame(real_dataset)\n",
    "daframe_groups = daframe.groupby('transaction date', group_keys=False)\n",
    "daframe_samples = daframe_groups.apply(lambda x: x.sample(frac=0.7))\n",
    "\n",
    "X = real_dataset.drop(columns=[\"transaction date\"],axis=1)\n",
    "Y = real_dataset['house price of unit area']\n",
    "\n",
    "# split the data to train(70%) and test(30%) sets\n",
    "x_train, x_test, y_train, y_test = train_test_split(X, Y, test_size=0.3, random_state=0)\n"
   ]
  },
  {
   "cell_type": "markdown",
   "metadata": {},
   "source": [
    "Linear regression"
   ]
  },
  {
   "cell_type": "code",
   "execution_count": 3,
   "metadata": {},
   "outputs": [
    {
     "name": "stdout",
     "output_type": "stream",
     "text": [
      "356    45.3\n",
      "170    14.4\n",
      "224    46.0\n",
      "331    15.6\n",
      "306    50.2\n",
      "       ... \n",
      "353    31.3\n",
      "81     36.8\n",
      "107    26.6\n",
      "362    40.0\n",
      "410    50.0\n",
      "Name: house price of unit area, Length: 125, dtype: float64\n",
      "[45.3 14.4 46.  15.6 50.2 38.1 48.5 41.4 51.6 40.1 42.  42.4 28.5 39.1\n",
      " 53.7 36.8 40.6 55.2 39.3 44.3 53.5 25.3 22.8 51.7 45.5 34.4 31.6 25.9\n",
      " 49.5 24.7 51.7 29.7 45.4 50.5 26.5 30.1 46.1 28.9 54.4 15.  44.9 29.8\n",
      " 23.6 48.  16.7 40.9 40.2 12.9 21.3 62.1 63.9 40.3 42.2 19.1 28.4 28.5\n",
      " 60.7 37.5 39.3 28.8 42.3 44.3 42.6 57.4 42.2 25.7 13.2 27.  56.2 38.3\n",
      " 20.8 43.1 78.3 20.9 32.5 33.4 32.1 19.2 53.  38.2 46.7 24.6 36.2 23.2\n",
      " 29.3 38.4 37.5 34.3 44.8 54.4 37.9  7.6 29.5 25.3 13.7 30.  30.8 40.6\n",
      " 20.7 40.8 55.3 40.5 40.8 40.3 33.1 26.2 41.9 18.8 78.  15.6 39.4 41.\n",
      " 23.5 35.6 47.1 35.6 55.  41.5 37.4 21.8 31.3 36.8 26.6 40.  50. ]\n"
     ]
    }
   ],
   "source": [
    "LinearRegression_model = LinearRegression()\n",
    "LinearRegression_model.fit(x_train, y_train)\n",
    "y_pred = LinearRegression_model.predict(x_test)\n",
    "print(y_test)\n",
    "print(y_pred)"
   ]
  },
  {
   "cell_type": "markdown",
   "metadata": {},
   "source": [
    "Ridge regression"
   ]
  },
  {
   "cell_type": "code",
   "execution_count": 13,
   "metadata": {},
   "outputs": [
    {
     "name": "stdout",
     "output_type": "stream",
     "text": [
      "loss:  13.41283990542557\n",
      "Train score for ridge model:  0.9993720504824222\n",
      "Test score for ridge model:  0.9993703787130437\n"
     ]
    }
   ],
   "source": [
    "#print(x_train)\n",
    "scaler = StandardScaler()\n",
    "x_trainR = scaler.fit_transform(x_train)\n",
    "x_testR = scaler.transform(x_test)\n",
    "#print(x_trainR)\n",
    "\n",
    "ridge_model= Ridge(alpha=5)\n",
    "ridge_model.fit(x_trainR , y_train)\n",
    "y_predR = ridge_model.predict(x_testR)\n",
    "#y_predR =  scaler.inverse_transform()\n",
    "#print(y_test)\n",
    "#print(y_predR)\n",
    "y_list= y_test.values.tolist()\n",
    "\n",
    "\n",
    "# compute loss \n",
    "ridge_Loss=0\n",
    "for i in range(len(y_list)):\n",
    "    ridge_Loss = ridge_Loss + (y_list[i] - y_predR[i] )**2    \n",
    "print(f\"loss:  {ridge_Loss}\")\n",
    "\n",
    "train_score = ridge_model.score(x_trainR , y_train)\n",
    "test_score = ridge_model.score(x_testR , y_test)\n",
    "print(f\"Train score for ridge model:  {train_score}\")\n",
    "print(f\"Test score for ridge model:  {test_score}\")"
   ]
  }
 ],
 "metadata": {
  "interpreter": {
   "hash": "49d1e95959f2dacab48bfe2e1d3440164e82de770b5f3dced82994ebf39d69ec"
  },
  "kernelspec": {
   "display_name": "Python 3.9.6 64-bit",
   "language": "python",
   "name": "python3"
  },
  "language_info": {
   "codemirror_mode": {
    "name": "ipython",
    "version": 3
   },
   "file_extension": ".py",
   "mimetype": "text/x-python",
   "name": "python",
   "nbconvert_exporter": "python",
   "pygments_lexer": "ipython3",
   "version": "3.9.7"
  },
  "orig_nbformat": 4
 },
 "nbformat": 4,
 "nbformat_minor": 2
}
